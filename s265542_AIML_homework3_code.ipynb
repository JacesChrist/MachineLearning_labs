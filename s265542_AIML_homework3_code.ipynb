{
  "nbformat": 4,
  "nbformat_minor": 0,
  "metadata": {
    "colab": {
      "name": "Homework3.ipynb",
      "provenance": [],
      "collapsed_sections": []
    },
    "kernelspec": {
      "name": "python3",
      "display_name": "Python 3"
    },
    "accelerator": "GPU"
  },
  "cells": [
    {
      "cell_type": "markdown",
      "metadata": {
        "id": "mVXyegYNg6at",
        "colab_type": "text"
      },
      "source": [
        "IMPORT"
      ]
    },
    {
      "cell_type": "code",
      "metadata": {
        "id": "JKnMXicBeHC9",
        "colab_type": "code",
        "outputId": "0b09678a-918d-431e-ee8f-334dea26ab51",
        "colab": {
          "base_uri": "https://localhost:8080/",
          "height": 51
        }
      },
      "source": [
        "import os\n",
        "from PIL import Image\n",
        "import torchvision\n",
        "from torchvision import transforms\n",
        "from random import randint\n",
        "import time\n",
        "import matplotlib.pyplot as plt\n",
        "import torch\n",
        "import torch.nn as nn\n",
        "from torch.autograd import Function\n",
        "import torch.optim as optim\n",
        "from torch.backends import cudnn\n",
        "from torch.utils.data import DataLoader\n",
        "import numpy as np\n",
        "import logging\n",
        "\n",
        "logging.raiseExceptions = False\n",
        "\n",
        "# time finished task function\n",
        "def donetime(start=None, partial=False):\n",
        "  if start is not None:\n",
        "    if ((time.time() - start)/60) < 60:\n",
        "      if partial is True:\n",
        "        print('DONE (time {:4.2f} m)'.format((time.time() - start)/60))\n",
        "      else:\n",
        "        print('LOG TIMe {:4.2f} m'.format((time.time() - start)/60))\n",
        "    else:\n",
        "      if partial is True:\n",
        "        print('DONE (time {:4.2f} h)'.format((time.time() - start)/3600))\n",
        "      else:\n",
        "        print('LOG TIME {:4.2f} h'.format((time.time() - start)/3600))\n",
        "  else:\n",
        "    print('\\nDONE')\n",
        "  return\n",
        "\n",
        "# simple status bar \n",
        "def statusBar(actual, finish, vanish=False): #no other prints!\n",
        "  print(end=\"\\r\", flush=True)\n",
        "  print('[ ', end = '') \n",
        "  for i in range(actual):\n",
        "    print('###', end = '')\n",
        "  if actual != (finish -1):\n",
        "    print('#>-', end = '')\n",
        "  for i in range(finish - actual - 2):\n",
        "    print('---', end = '')\n",
        "  print(' ]', end = '')\n",
        "  if actual == (finish -1) and vanish == True:\n",
        "    print(end=\"\\r\", flush=True)\n",
        "  return\n",
        "\n",
        "donetime()"
      ],
      "execution_count": 0,
      "outputs": [
        {
          "output_type": "stream",
          "text": [
            "\n",
            "DONE\n"
          ],
          "name": "stdout"
        }
      ]
    },
    {
      "cell_type": "markdown",
      "metadata": {
        "id": "A4BbpCSGg9NK",
        "colab_type": "text"
      },
      "source": [
        "download GIT REPOSITORY and define PARAMETERS"
      ]
    },
    {
      "cell_type": "code",
      "metadata": {
        "id": "GCsgIneHUcZ4",
        "colab_type": "code",
        "outputId": "6dd7df75-6d5e-4fc5-f400-07b7897dcff8",
        "colab": {
          "base_uri": "https://localhost:8080/",
          "height": 51
        }
      },
      "source": [
        "if not os.path.isdir('./Homework3-PACS'):\n",
        "  !git clone https://github.com/MachineLearning2020/Homework3-PACS.git\n",
        "\n",
        "photo_dir = 'Homework3-PACS/PACS/photo'\n",
        "art_dir = 'Homework3-PACS/PACS/art_painting'\n",
        "\n",
        "DEVICE = 'cuda'\n",
        "NUM_CLASSES = 7\n",
        "BATCH_SIZE = 128\n",
        "MOMENTUM = 0.9    \n",
        "WEIGHT_DECAY = 5e-5  \n",
        "GAMMA = 0.1        \n",
        "LOG_FREQUENCY = 20\n",
        "\n",
        "# parameters to tune\n",
        "\n",
        "LR = 0.001\n",
        "NUM_EPOCHS = 10\n",
        "STEP_SIZE = 6\n",
        "ALPHA = 0.5\n",
        "ALPHA_type = 'linear_ascendant'\n",
        "#ALPHA_type = 'linear_discendant'\n",
        "\n",
        "donetime()"
      ],
      "execution_count": 0,
      "outputs": [
        {
          "output_type": "stream",
          "text": [
            "\n",
            "DONE\n"
          ],
          "name": "stdout"
        }
      ]
    },
    {
      "cell_type": "markdown",
      "metadata": {
        "id": "GbN-CEqahH4Y",
        "colab_type": "text"
      },
      "source": [
        "define TRANSFORMATIONS, prepare DATASETS and DATALOADERS"
      ]
    },
    {
      "cell_type": "code",
      "metadata": {
        "id": "s3KE9bfthJ-A",
        "colab_type": "code",
        "outputId": "b2347ac2-b600-4770-9382-5d064240d7a3",
        "colab": {
          "base_uri": "https://localhost:8080/",
          "height": 102
        }
      },
      "source": [
        "photo_transform = transforms.Compose([transforms.Resize(256),     \n",
        "                                      transforms.CenterCrop(224),  \n",
        "                                      transforms.ToTensor(), \n",
        "                                      transforms.Normalize(mean=[0.485, 0.456, 0.406], std=[0.229, 0.224, 0.225]) # ImageNet normalization \n",
        "                                    ])\n",
        "art_transform = transforms.Compose([transforms.Resize(256),\n",
        "                                      transforms.CenterCrop(224),\n",
        "                                      transforms.ToTensor(),\n",
        "                                      transforms.Normalize(mean=[0.485, 0.456, 0.406], std=[0.229, 0.224, 0.225]) # ImageNet normalization \n",
        "                                    ])\n",
        "\n",
        "photo_dataset = torchvision.datasets.ImageFolder(photo_dir, transform=photo_transform)\n",
        "print('Train dataset imported ({} photo)'.format(len(photo_dataset)))\n",
        "art_dataset = torchvision.datasets.ImageFolder(art_dir, transform=art_transform)\n",
        "print('Test dataset imported ({} art)\\n'.format(len(art_dataset)))\n",
        "\n",
        "show_some = 0\n",
        "if show_some is not 0:\n",
        "  print('Some photo form the trainset:')\n",
        "  for i in range(show_some):\n",
        "    im, label = photo_dataset[randint(0, len(photo_dataset))]\n",
        "    plt.figure()\n",
        "    plt.title(photo_dataset.classes[label])\n",
        "    plt.imshow(im.permute(1, 2, 0))\n",
        "    plt.show()\n",
        "  print('\\nSome art form the testset:')\n",
        "  for i in range(show_some):\n",
        "    im, label = art_dataset[randint(0, len(art_dataset))]\n",
        "    plt.figure()\n",
        "    plt.title(art_dataset.classes[label])\n",
        "    plt.imshow(im.permute(1, 2, 0))\n",
        "    plt.show()\n",
        "\n",
        "\n",
        "photo_dataloader = DataLoader(photo_dataset, batch_size=BATCH_SIZE, shuffle=True, num_workers=4, drop_last=True)\n",
        "art_dataloader = DataLoader(art_dataset, batch_size=BATCH_SIZE, shuffle=False, num_workers=4)\n",
        "\n",
        "donetime()"
      ],
      "execution_count": 0,
      "outputs": [
        {
          "output_type": "stream",
          "text": [
            "Train dataset imported (1670 photo)\n",
            "Test dataset imported (2048 art)\n",
            "\n",
            "\n",
            "DONE\n"
          ],
          "name": "stdout"
        }
      ]
    },
    {
      "cell_type": "markdown",
      "metadata": {
        "id": "TzLvdIf0wS1-",
        "colab_type": "text"
      },
      "source": [
        "build DANN from ALEXNET structure"
      ]
    },
    {
      "cell_type": "code",
      "metadata": {
        "id": "UWrZOIFTh8ej",
        "colab_type": "code",
        "outputId": "05267b90-1406-4813-e6f5-25762c1c73e3",
        "colab": {
          "base_uri": "https://localhost:8080/",
          "height": 51
        }
      },
      "source": [
        "try:\n",
        "  from torch.hub import load_state_dict_from_url\n",
        "except ImportError:\n",
        "  from torch.utils.model_zoo import load_url as load_state_dict_from_url\n",
        "\n",
        "__all__ = ['AlexNet', 'alexnet']\n",
        "model_urls = { 'alexnet': 'https://download.pytorch.org/models/alexnet-owt-4df8aa71.pth', }\n",
        "\n",
        "\n",
        "class AlexNet(nn.Module):\n",
        "\n",
        "  def __init__(self, num_classes=1000):\n",
        "    super(AlexNet, self).__init__()\n",
        "    #CONVOLUTIONAL LAYERS\n",
        "    self.features = nn.Sequential(\n",
        "      nn.Conv2d(3, 64, kernel_size=11, stride=4, padding=2),\n",
        "      nn.ReLU(inplace=True),\n",
        "      nn.MaxPool2d(kernel_size=3, stride=2),\n",
        "      nn.Conv2d(64, 192, kernel_size=5, padding=2),\n",
        "      nn.ReLU(inplace=True),\n",
        "      nn.MaxPool2d(kernel_size=3, stride=2),\n",
        "      nn.Conv2d(192, 384, kernel_size=3, padding=1),\n",
        "      nn.ReLU(inplace=True),\n",
        "      nn.Conv2d(384, 256, kernel_size=3, padding=1),\n",
        "      nn.ReLU(inplace=True),\n",
        "      nn.Conv2d(256, 256, kernel_size=3, padding=1),\n",
        "      nn.ReLU(inplace=True),\n",
        "      nn.MaxPool2d(kernel_size=3, stride=2),\n",
        "    )\n",
        "    self.avgpool = nn.AdaptiveAvgPool2d((6, 6))\n",
        "    #CLASS CLASSIFIER \n",
        "    self.classifier = nn.Sequential(\n",
        "      nn.Dropout(),\n",
        "      nn.Linear(256 * 6 * 6, 4096),\n",
        "      nn.ReLU(inplace=True),\n",
        "      nn.Dropout(),\n",
        "      nn.Linear(4096, 4096),\n",
        "      nn.ReLU(inplace=True),\n",
        "      nn.Linear(4096, num_classes), #last fully connected layer: predict class\n",
        "    )\n",
        "    #DOMAIN DISCRIMINATOR\n",
        "    self.discriminator = nn.Sequential(\n",
        "      nn.Dropout(),\n",
        "      nn.Linear(256 * 6 * 6, 4096),\n",
        "      nn.ReLU(inplace=True),\n",
        "      nn.Dropout(),\n",
        "      nn.Linear(4096, 4096),\n",
        "      nn.ReLU(inplace=True),\n",
        "      nn.Linear(4096, 2), #last fully connected layer: predict domain\n",
        "    )\n",
        "\n",
        "  def forward(self, x, alpha=None):\n",
        "    x = self.features(x)\n",
        "    x = self.avgpool(x)\n",
        "    x = torch.flatten(x, 1)\n",
        "    x = x.view(x.size(0), -1) #?\n",
        "    if alpha is not None: #forward in domain discriminator\n",
        "      reverse_feature = ReverseLayerF.apply(x, alpha)\n",
        "      x = self.discriminator(reverse_feature)\n",
        "    else: #forward in class classifier\n",
        "      x = self.classifier(x)\n",
        "    return x\n",
        "        \n",
        "\n",
        "def alexnet(pretrained=False, progress=True, **kwargs):\n",
        "  model = AlexNet(**kwargs)\n",
        "  if pretrained:\n",
        "    state_dict = load_state_dict_from_url(model_urls['alexnet'], progress=progress)\n",
        "    model.load_state_dict(state_dict, strict=False)\n",
        "  return model\n",
        "\n",
        "class ReverseLayerF(Function):\n",
        "\n",
        "  @staticmethod\n",
        "  def forward(ctx, x, alpha):\n",
        "    ctx.alpha = alpha\n",
        "    return x.view_as(x)\n",
        "\n",
        "  @staticmethod\n",
        "  def backward(ctx, grad_output):\n",
        "    output = grad_output.neg() * ctx.alpha\n",
        "    return output, None\n",
        "\n",
        "donetime()"
      ],
      "execution_count": 0,
      "outputs": [
        {
          "output_type": "stream",
          "text": [
            "\n",
            "DONE\n"
          ],
          "name": "stdout"
        }
      ]
    },
    {
      "cell_type": "markdown",
      "metadata": {
        "id": "Q5Ca0MUEVWS2",
        "colab_type": "text"
      },
      "source": [
        "IMAGENET pretraining adapted on DANN"
      ]
    },
    {
      "cell_type": "code",
      "metadata": {
        "id": "2QcuQvYrwiNE",
        "colab_type": "code",
        "outputId": "a0452871-688c-48d7-c6f9-ef30d561917e",
        "colab": {
          "base_uri": "https://localhost:8080/",
          "height": 51
        }
      },
      "source": [
        "def prepareDANN():\n",
        "  net = alexnet(pretrained=True)\n",
        "\n",
        "  net.discriminator[1].weight.data = net.classifier[1].weight.data\n",
        "  net.discriminator[1].bias.data = net.classifier[1].bias.data\n",
        "\n",
        "  net.discriminator[4].weight.data = net.classifier[4].weight.data\n",
        "  net.discriminator[4].bias.data = net.classifier[4].bias.data\n",
        "\n",
        "  net.classifier[6] = nn.Linear(4096,7)\n",
        "  return net\n",
        "\n",
        "def testAccuracy(dataset,dataloader,net, without=False):\n",
        "  net = net.to(DEVICE) \n",
        "  net.train(False)\n",
        "  running_corrects = 0\n",
        "  for images, labels in dataloader:\n",
        "    images = images.to(DEVICE)\n",
        "    labels = labels.to(DEVICE)\n",
        "    # Forward Pass\n",
        "    outputs = net(images)\n",
        "    # Get predictions\n",
        "    _, preds = torch.max(outputs.data, 1)\n",
        "    # Update Corrects\n",
        "    running_corrects += torch.sum(preds == labels.data).data.item()\n",
        "  # Calculate Accuracy\n",
        "  accuracy = running_corrects / float(len(dataset))\n",
        "  if without is False:\n",
        "    print('TEST ACCURACY (with DANN adaptation): {}'.format(accuracy))\n",
        "  else:\n",
        "    print('TEST ACCURACY (without DANN adaptation): {}'.format(accuracy))\n",
        "  return accuracy\n",
        "\n",
        "def get_batch(n,iterloader,dataloader):\n",
        "  batch=[]\n",
        "  for i in range(n):\n",
        "    try:\n",
        "      batch = next(iterloader)\n",
        "    except :\n",
        "      iterloader = iter(dataloader)\n",
        "      batch = next(iterloader)\n",
        "      return batch\n",
        "  return batch\n",
        "\n",
        "donetime()"
      ],
      "execution_count": 0,
      "outputs": [
        {
          "output_type": "stream",
          "text": [
            "\n",
            "DONE\n"
          ],
          "name": "stdout"
        }
      ]
    },
    {
      "cell_type": "markdown",
      "metadata": {
        "id": "uL7ty96Idbd4",
        "colab_type": "text"
      },
      "source": [
        "TRAIN on photo, TEST on art (without adaptation)"
      ]
    },
    {
      "cell_type": "code",
      "metadata": {
        "id": "NUsae1u9Vpru",
        "colab_type": "code",
        "outputId": "153b8279-fa43-4a3d-e3d8-c4fc1eb1bc64",
        "colab": {
          "base_uri": "https://localhost:8080/",
          "height": 54
        }
      },
      "source": [
        "'''\n",
        "startTime = time.time()\n",
        "\n",
        "DANN = prepareDANN()\n",
        "\n",
        "criterion = nn.CrossEntropyLoss()\n",
        "parameters_to_optimize = DANN.parameters()\n",
        "optimizer = optim.SGD(parameters_to_optimize, lr=LR, momentum=MOMENTUM, weight_decay=WEIGHT_DECAY)\n",
        "scheduler = optim.lr_scheduler.StepLR(optimizer, step_size=STEP_SIZE, gamma=GAMMA)\n",
        "\n",
        "DANN = DANN.to(DEVICE) \n",
        "cudnn.benchmark \n",
        "\n",
        "current_step = 0\n",
        "loss_log = []\n",
        "\n",
        "# Start iterating over the epochs\n",
        "for epoch in range(NUM_EPOCHS):\n",
        "  #print('Starting epoch {}/{}, LR = {}'.format(epoch+1, NUM_EPOCHS, scheduler.get_lr()))\n",
        "  statusBar(epoch, NUM_EPOCHS)\n",
        "\n",
        "  # Iterate over the dataset\n",
        "  for images, labels in photo_dataloader:\n",
        "\n",
        "    images = images.to(DEVICE)\n",
        "    labels = labels.to(DEVICE)\n",
        "\n",
        "    DANN.train()\n",
        "    optimizer.zero_grad() \n",
        "\n",
        "    # Forward pass photo to the classifier\n",
        "    classifier_outputs = DANN(images)\n",
        "    classifier_loss = criterion(classifier_outputs, labels)\n",
        "    classifier_loss.backward()  \n",
        "      \n",
        "    optimizer.step() # update weights based on accumulated gradients\n",
        "    current_step += 1\n",
        "     \n",
        "    # Log loss\n",
        "    loss_log.append((current_step, classifier_loss.item()))\n",
        "    #if current_step % LOG_FREQUENCY == 0:\n",
        "      #print('CLASSIFIER: (Step {}) Loss {}'.format(current_step, classifier_loss.item()))\n",
        "\n",
        "  # Step the scheduler\n",
        "  scheduler.step() \n",
        "\n",
        "  DANN = DANN.to(DEVICE) # this will bring the network to GPU if DEVICE is cuda\n",
        "  DANN.train(False) # Set Network to evaluation mode\n",
        "\n",
        "  running_corrects = 0\n",
        "  \n",
        "print('\\n\\n(step, classifier_loss)')\n",
        "a = []\n",
        "for tupl in loss_log:\n",
        "  print('({}, {})'.format(tupl[0], tupl[1]))\n",
        "  a.append(tupl[1])\n",
        "print('')\n",
        "plt.title('without DANN adaptation')\n",
        "plt.plot(a, label='classifier loss')\n",
        "plt.ylabel('loss')\n",
        "plt.xlabel('step')\n",
        "plt.grid()\n",
        "plt.legend()\n",
        "plt.show()\n",
        "\n",
        "testAccuracy(art_dataset, art_dataloader, DANN)\n",
        "\n",
        "donetime(startTime)\n",
        "'''"
      ],
      "execution_count": 0,
      "outputs": [
        {
          "output_type": "execute_result",
          "data": {
            "text/plain": [
              "\"\\nstartTime = time.time()\\n\\nDANN = prepareDANN()\\n\\ncriterion = nn.CrossEntropyLoss()\\nparameters_to_optimize = DANN.parameters()\\noptimizer = optim.SGD(parameters_to_optimize, lr=LR, momentum=MOMENTUM, weight_decay=WEIGHT_DECAY)\\nscheduler = optim.lr_scheduler.StepLR(optimizer, step_size=STEP_SIZE, gamma=GAMMA)\\n\\nDANN = DANN.to(DEVICE) \\ncudnn.benchmark \\n\\ncurrent_step = 0\\nloss_log = []\\n\\n# Start iterating over the epochs\\nfor epoch in range(NUM_EPOCHS):\\n  #print('Starting epoch {}/{}, LR = {}'.format(epoch+1, NUM_EPOCHS, scheduler.get_lr()))\\n  statusBar(epoch, NUM_EPOCHS)\\n\\n  # Iterate over the dataset\\n  for images, labels in photo_dataloader:\\n\\n    images = images.to(DEVICE)\\n    labels = labels.to(DEVICE)\\n\\n    DANN.train()\\n    optimizer.zero_grad() \\n\\n    # Forward pass photo to the classifier\\n    classifier_outputs = DANN(images)\\n    classifier_loss = criterion(classifier_outputs, labels)\\n    classifier_loss.backward()  \\n      \\n    optimizer.step() # update weights based on accumulated gradients\\n    current_step += 1\\n     \\n    # Log loss\\n    loss_log.append((current_step, classifier_loss.item()))\\n    #if current_step % LOG_FREQUENCY == 0:\\n      #print('CLASSIFIER: (Step {}) Loss {}'.format(current_step, classifier_loss.item()))\\n\\n  # Step the scheduler\\n  scheduler.step() \\n\\n  DANN = DANN.to(DEVICE) # this will bring the network to GPU if DEVICE is cuda\\n  DANN.train(False) # Set Network to evaluation mode\\n\\n  running_corrects = 0\\n  \\nprint('\\n\\n(step, classifier_loss)')\\na = []\\nfor tupl in loss_log:\\n  print('({}, {})'.format(tupl[0], tupl[1]))\\n  a.append(tupl[1])\\nprint('')\\nplt.title('without DANN adaptation')\\nplt.plot(a, label='classifier loss')\\nplt.ylabel('loss')\\nplt.xlabel('step')\\nplt.grid()\\nplt.legend()\\nplt.show()\\n\\ntestAccuracy(art_dataset, art_dataloader, DANN)\\n\\ndonetime(startTime)\\n\""
            ]
          },
          "metadata": {
            "tags": []
          },
          "execution_count": 6
        }
      ]
    },
    {
      "cell_type": "markdown",
      "metadata": {
        "id": "NhpKms22tO12",
        "colab_type": "text"
      },
      "source": [
        "train with ADAPTATION, test on art "
      ]
    },
    {
      "cell_type": "code",
      "metadata": {
        "id": "yIoNre8pxGol",
        "colab_type": "code",
        "outputId": "67567b3b-b159-40fb-e3c6-c351eb667774",
        "colab": {
          "base_uri": "https://localhost:8080/",
          "height": 54
        }
      },
      "source": [
        "'''\n",
        "startTime = time.time()\n",
        "\n",
        "\n",
        "\n",
        "DANN = prepareDANN()\n",
        "\n",
        "data_target_iter = iter(art_dataloader)\n",
        "criterion = nn.CrossEntropyLoss()\n",
        "parameters_to_optimize = DANN.parameters()\n",
        "optimizer = optim.SGD(parameters_to_optimize, lr=LR, momentum=MOMENTUM, weight_decay=WEIGHT_DECAY)\n",
        "scheduler = optim.lr_scheduler.StepLR(optimizer, step_size=STEP_SIZE, gamma=GAMMA)\n",
        "\n",
        "DANN = DANN.to(DEVICE) \n",
        "cudnn.benchmark \n",
        "\n",
        "current_step = 0\n",
        "log_tuplevector = []\n",
        "\n",
        "# Start iterating over the epochs\n",
        "for epoch in range(NUM_EPOCHS):\n",
        "\n",
        "  # paper formula\n",
        "  #p = float((current_step) / ((len(photo_dataset) / BATCH_SIZE) * NUM_EPOCHS))\n",
        "  #ALPHA = 2. / (1. + np.exp(-10 * p)) - 1 \n",
        "\n",
        "  #print('Starting epoch {}/{}, LR = {}, ALPHA = {}'.format(epoch+1, NUM_EPOCHS, scheduler.get_lr(), ALPHA))\n",
        "  statusBar(epoch, NUM_EPOCHS)\n",
        "\n",
        "  # Iterate over the dataset\n",
        "  for images, labels in photo_dataloader:\n",
        "\n",
        "    \n",
        "    \n",
        "    \n",
        "    if ALPHA_type is 'flat_0.1':\n",
        "      ALPHA = 0.1\n",
        "    if ALPHA_type is 'flat_0.5':\n",
        "      ALPHA = 0.5\n",
        "    if ALPHA_type is 'linear_ascendant':\n",
        "      ALPHA = float((current_step) / ((len(photo_dataset) / BATCH_SIZE) * NUM_EPOCHS))\n",
        "    if ALPHA_type is 'linear_discendant':\n",
        "      ALPHA = float(((-1) * (current_step)) / ((len(photo_dataset) / BATCH_SIZE) * NUM_EPOCHS))\n",
        "\n",
        "\n",
        "    images = images.to(DEVICE)\n",
        "    labels = labels.to(DEVICE)\n",
        "\n",
        "    DANN.train()\n",
        "    optimizer.zero_grad() \n",
        "\n",
        "    # Forward pass photo to the classifier\n",
        "    classifier_outputs = DANN(images)\n",
        "    classifier_loss = criterion(classifier_outputs, labels)\n",
        "    classifier_loss.backward()  \n",
        "\n",
        "    # Forward pass photo to the discriminator\n",
        "    discriminator_photo_outputs = DANN(images, ALPHA)\n",
        "    photo_targets = torch.zeros(labels.size(0), dtype=torch.int64).to(DEVICE)\n",
        "    discriminator_photo_loss = criterion(discriminator_photo_outputs, photo_targets)\n",
        "    discriminator_photo_loss.backward()\n",
        "\n",
        "    # Load art\n",
        "    art_images, art_labels = get_batch(BATCH_SIZE, data_target_iter, art_dataloader)\n",
        "    art_images = art_images.to(DEVICE)\n",
        "    art_labels = art_labels.to(DEVICE)\n",
        "    \n",
        "    # forward pass target to gd\n",
        "    discriminator_art_outputs = DANN(art_images, ALPHA)\n",
        "    art_labels = torch.ones(labels.size(0) , dtype=torch.int64).to(DEVICE)\n",
        "    discriminator_art_loss = criterion(discriminator_art_outputs,art_labels)\n",
        "    discriminator_art_loss.backward()\n",
        "      \n",
        "    optimizer.step() # update weights based on accumulated gradients\n",
        "    current_step += 1\n",
        "     \n",
        "    # Log loss\n",
        "    log_tuplevector.append((current_step, classifier_loss.item(), discriminator_photo_loss.item(), discriminator_art_loss.item(), ALPHA))\n",
        "    #if current_step % LOG_FREQUENCY == 0:\n",
        "      #print('CLASSIFIER: (Step {}) Loss {}'.format(current_step, classifier_loss.item()))\n",
        "      #print('DISCRIMINATON photo: (Step {}) Loss {}'.format(current_step, discriminator_photo_loss.item()))\n",
        "      #print('DISCRIMINATOR art: (Step {}) Loss {}'.format(current_step, discriminator_art_loss.item()))\n",
        "\n",
        "  # Step the scheduler\n",
        "  scheduler.step() \n",
        "\n",
        "  DANN = DANN.to(DEVICE) # this will bring the network to GPU if DEVICE is cuda\n",
        "  DANN.train(False) # Set Network to evaluation mode\n",
        "\n",
        "  running_corrects = 0\n",
        "\n",
        "print('\\n\\n(step, classifier_loss, discriminator_photo_loss, discriminator_art_loss, ALPHA)')\n",
        "a = []\n",
        "b = []\n",
        "c = []\n",
        "for tupl in log_tuplevector:\n",
        "  print('({}, {}, {}, {}, {})'.format(tupl[0], tupl[1], tupl[2], tupl[3], tupl[4]))\n",
        "  a.append(tupl[1])\n",
        "  b.append(tupl[2])\n",
        "  c.append(tupl[3])\n",
        "print('')\n",
        "plt.title('with DANN adaptation')\n",
        "plt.plot(a, label='classifier loss')\n",
        "plt.plot(b, label='discriminator loss (photo)')\n",
        "plt.plot(c, label='discriminator loss (art)')\n",
        "plt.ylabel('loss')\n",
        "plt.xlabel('step')\n",
        "plt.grid()\n",
        "plt.legend()\n",
        "plt.show()\n",
        "\n",
        "testAccuracy(art_dataset, art_dataloader, DANN)\n",
        "    \n",
        "donetime(startTime)\n",
        "'''"
      ],
      "execution_count": 0,
      "outputs": [
        {
          "output_type": "execute_result",
          "data": {
            "text/plain": [
              "\"\\nstartTime = time.time()\\n\\n\\n\\nDANN = prepareDANN()\\n\\ndata_target_iter = iter(art_dataloader)\\ncriterion = nn.CrossEntropyLoss()\\nparameters_to_optimize = DANN.parameters()\\noptimizer = optim.SGD(parameters_to_optimize, lr=LR, momentum=MOMENTUM, weight_decay=WEIGHT_DECAY)\\nscheduler = optim.lr_scheduler.StepLR(optimizer, step_size=STEP_SIZE, gamma=GAMMA)\\n\\nDANN = DANN.to(DEVICE) \\ncudnn.benchmark \\n\\ncurrent_step = 0\\nlog_tuplevector = []\\n\\n# Start iterating over the epochs\\nfor epoch in range(NUM_EPOCHS):\\n\\n  # paper formula\\n  #p = float((current_step) / ((len(photo_dataset) / BATCH_SIZE) * NUM_EPOCHS))\\n  #ALPHA = 2. / (1. + np.exp(-10 * p)) - 1 \\n\\n  #print('Starting epoch {}/{}, LR = {}, ALPHA = {}'.format(epoch+1, NUM_EPOCHS, scheduler.get_lr(), ALPHA))\\n  statusBar(epoch, NUM_EPOCHS)\\n\\n  # Iterate over the dataset\\n  for images, labels in photo_dataloader:\\n\\n    \\n    \\n    \\n    if ALPHA_type is 'flat_0.1':\\n      ALPHA = 0.1\\n    if ALPHA_type is 'flat_0.5':\\n      ALPHA = 0.5\\n    if ALPHA_type is 'linear_ascendant':\\n      ALPHA = float((current_step) / ((len(photo_dataset) / BATCH_SIZE) * NUM_EPOCHS))\\n    if ALPHA_type is 'linear_discendant':\\n      ALPHA = float(((-1) * (current_step)) / ((len(photo_dataset) / BATCH_SIZE) * NUM_EPOCHS))\\n\\n\\n    images = images.to(DEVICE)\\n    labels = labels.to(DEVICE)\\n\\n    DANN.train()\\n    optimizer.zero_grad() \\n\\n    # Forward pass photo to the classifier\\n    classifier_outputs = DANN(images)\\n    classifier_loss = criterion(classifier_outputs, labels)\\n    classifier_loss.backward()  \\n\\n    # Forward pass photo to the discriminator\\n    discriminator_photo_outputs = DANN(images, ALPHA)\\n    photo_targets = torch.zeros(labels.size(0), dtype=torch.int64).to(DEVICE)\\n    discriminator_photo_loss = criterion(discriminator_photo_outputs, photo_targets)\\n    discriminator_photo_loss.backward()\\n\\n    # Load art\\n    art_images, art_labels = get_batch(BATCH_SIZE, data_target_iter, art_dataloader)\\n    art_images = art_images.to(DEVICE)\\n    art_labels = art_labels.to(DEVICE)\\n    \\n    # forward pass target to gd\\n    discriminator_art_outputs = DANN(art_images, ALPHA)\\n    art_labels = torch.ones(labels.size(0) , dtype=torch.int64).to(DEVICE)\\n    discriminator_art_loss = criterion(discriminator_art_outputs,art_labels)\\n    discriminator_art_loss.backward()\\n      \\n    optimizer.step() # update weights based on accumulated gradients\\n    current_step += 1\\n     \\n    # Log loss\\n    log_tuplevector.append((current_step, classifier_loss.item(), discriminator_photo_loss.item(), discriminator_art_loss.item(), ALPHA))\\n    #if current_step % LOG_FREQUENCY == 0:\\n      #print('CLASSIFIER: (Step {}) Loss {}'.format(current_step, classifier_loss.item()))\\n      #print('DISCRIMINATON photo: (Step {}) Loss {}'.format(current_step, discriminator_photo_loss.item()))\\n      #print('DISCRIMINATOR art: (Step {}) Loss {}'.format(current_step, discriminator_art_loss.item()))\\n\\n  # Step the scheduler\\n  scheduler.step() \\n\\n  DANN = DANN.to(DEVICE) # this will bring the network to GPU if DEVICE is cuda\\n  DANN.train(False) # Set Network to evaluation mode\\n\\n  running_corrects = 0\\n\\nprint('\\n\\n(step, classifier_loss, discriminator_photo_loss, discriminator_art_loss, ALPHA)')\\na = []\\nb = []\\nc = []\\nfor tupl in log_tuplevector:\\n  print('({}, {}, {}, {}, {})'.format(tupl[0], tupl[1], tupl[2], tupl[3], tupl[4]))\\n  a.append(tupl[1])\\n  b.append(tupl[2])\\n  c.append(tupl[3])\\nprint('')\\nplt.title('with DANN adaptation')\\nplt.plot(a, label='classifier loss')\\nplt.plot(b, label='discriminator loss (photo)')\\nplt.plot(c, label='discriminator loss (art)')\\nplt.ylabel('loss')\\nplt.xlabel('step')\\nplt.grid()\\nplt.legend()\\nplt.show()\\n\\ntestAccuracy(art_dataset, art_dataloader, DANN)\\n    \\ndonetime(startTime)\\n\""
            ]
          },
          "metadata": {
            "tags": []
          },
          "execution_count": 7
        }
      ]
    },
    {
      "cell_type": "markdown",
      "metadata": {
        "id": "kAp8vdwr1WJn",
        "colab_type": "text"
      },
      "source": [
        "CYCLED procedure"
      ]
    },
    {
      "cell_type": "code",
      "metadata": {
        "id": "6ribM0E71UXp",
        "colab_type": "code",
        "outputId": "5cb06dbb-ffea-474f-f196-46f27ff87b64",
        "colab": {
          "base_uri": "https://localhost:8080/",
          "height": 1000
        }
      },
      "source": [
        "startTime = time.time()\n",
        "\n",
        "LRs = [0.00005, 0.0001, 0.0005, 0.001]\n",
        "NUM_EPOCHSsSTEP_SIZEs = [(10, 6)]\n",
        "ALPHAs = ['linear', 'flat 0.1', 'flat 0.5', 'flat 1']\n",
        "count_iteration = 0 #\n",
        "main_log = []\n",
        "\n",
        "start_iteration = 10\n",
        "\n",
        "for LRiter in LRs:\n",
        "  for NUM_EPOCHSiter, STEP_SIZEiter in NUM_EPOCHSsSTEP_SIZEs:\n",
        "    for ALPHAiter in ALPHAs:\n",
        "      if count_iteration >= start_iteration:\n",
        "\n",
        "        ### TEST VANILLA only first alpha\n",
        "        if ALPHAiter == ALPHAs[0]:\n",
        "          print('[{}/{}] LR: {}'.format(count_iteration, len(LRs) * len(NUM_EPOCHSsSTEP_SIZEs) * (len(ALPHAs) + 1 ),  LRiter))\n",
        "\n",
        "          DANN = prepareDANN()\n",
        "\n",
        "          criterion = nn.CrossEntropyLoss()\n",
        "          parameters_to_optimize = DANN.parameters()\n",
        "          optimizer = optim.SGD(parameters_to_optimize, lr=LRiter, momentum=MOMENTUM, weight_decay=WEIGHT_DECAY)\n",
        "          scheduler = optim.lr_scheduler.StepLR(optimizer, step_size=STEP_SIZEiter, gamma=GAMMA)\n",
        "\n",
        "          DANN = DANN.to(DEVICE) \n",
        "          cudnn.benchmark \n",
        "\n",
        "          current_step = 0\n",
        "          loss_log = []\n",
        "\n",
        "          # Start iterating over the epochs\n",
        "          for epoch in range(NUM_EPOCHSiter):\n",
        "            #print('Starting epoch {}/{}, LR = {}'.format(epoch+1, NUM_EPOCHS, scheduler.get_lr()))\n",
        "            statusBar(epoch, NUM_EPOCHSiter, vanish=True)\n",
        "\n",
        "            # Iterate over the dataset\n",
        "            for images, labels in photo_dataloader:\n",
        "\n",
        "              images = images.to(DEVICE)\n",
        "              labels = labels.to(DEVICE)\n",
        "\n",
        "              DANN.train()\n",
        "              optimizer.zero_grad() \n",
        "\n",
        "              # Forward pass photo to the classifier\n",
        "              classifier_outputs = DANN(images)\n",
        "              classifier_loss = criterion(classifier_outputs, labels)\n",
        "              classifier_loss.backward()  \n",
        "                \n",
        "              optimizer.step() # update weights based on accumulated gradients\n",
        "              current_step += 1\n",
        "              \n",
        "              # Log loss\n",
        "              loss_log.append((current_step, classifier_loss.item()))\n",
        "              #if current_step % LOG_FREQUENCY == 0:\n",
        "                #print('CLASSIFIER: (Step {}) Loss {}'.format(current_step, classifier_loss.item()))\n",
        "\n",
        "            # Step the scheduler\n",
        "            scheduler.step() \n",
        "\n",
        "            DANN = DANN.to(DEVICE) # this will bring the network to GPU if DEVICE is cuda\n",
        "            DANN.train(False) # Set Network to evaluation mode\n",
        "\n",
        "            running_corrects = 0\n",
        "            \n",
        "          a = []\n",
        "          for tupl in loss_log:\n",
        "            a.append(tupl[1])\n",
        "          #print('\\nLR {}, NUM_EPOCHS {}, STEP_SIZE {}, ALPHA {}'.format(LRiter, NUM_EPOCHSiter, STEP_SIZEiter, ALPHAiter))\n",
        "          #plt.title('without DANN adaptation')\n",
        "          #plt.plot(a, label='classifier loss')\n",
        "          #plt.ylabel('loss')\n",
        "          #plt.xlabel('step')\n",
        "          #plt.grid()\n",
        "          #plt.legend()\n",
        "          #plt.show()\n",
        "\n",
        "          score = testAccuracy(art_dataset, art_dataloader, DANN, without=True)\n",
        "          main_log.append( (count_iteration, LRiter, NUM_EPOCHSiter, STEP_SIZEiter, 'none', score) )\n",
        "\n",
        "          count_iteration += 1\n",
        "\n",
        "          #donetime(startTime, partial=True)\n",
        "        \n",
        "        ### TEST DANN\n",
        "        \n",
        "        print('[{}/{}] LR: {}, ALPHA: {}'.format(count_iteration, len(LRs) * len(NUM_EPOCHSsSTEP_SIZEs) * (len(ALPHAs) + 1), LRiter, ALPHAiter))\n",
        "\n",
        "        DANN = prepareDANN()\n",
        "\n",
        "        criterion = nn.CrossEntropyLoss()\n",
        "        parameters_to_optimize = DANN.parameters()\n",
        "        optimizer = optim.SGD(parameters_to_optimize, lr=LRiter, momentum=MOMENTUM, weight_decay=WEIGHT_DECAY)\n",
        "        scheduler = optim.lr_scheduler.StepLR(optimizer, step_size=STEP_SIZEiter, gamma=GAMMA)\n",
        "\n",
        "        DANN = DANN.to(DEVICE) \n",
        "        cudnn.benchmark \n",
        "\n",
        "        current_step = 0\n",
        "        log_tuplevector = []\n",
        "        max_step = (len(photo_dataset) / BATCH_SIZE) * NUM_EPOCHSiter\n",
        "\n",
        "        # Start iterating over the epochs\n",
        "        for epoch in range(NUM_EPOCHSiter):\n",
        "          \n",
        "          data_target_iter = iter(art_dataloader)\n",
        "\n",
        "          # paper formula\n",
        "          #p = float((current_step) / ((len(photo_dataset) / BATCH_SIZE) * NUM_EPOCHS))\n",
        "          #ALPHA = 2. / (1. + np.exp(-10 * p)) - 1 \n",
        "\n",
        "          #print('Starting epoch {}/{}, LR = {}, ALPHA = {}'.format(epoch+1, NUM_EPOCHS, scheduler.get_lr(), ALPHA))\n",
        "          statusBar(epoch, NUM_EPOCHSiter, vanish=True)\n",
        "\n",
        "          # Iterate over the dataset\n",
        "          for images, labels in photo_dataloader:\n",
        "            \n",
        "            if ALPHAiter is 'flat 0.1':\n",
        "              ALPHA = 0.1\n",
        "            if ALPHAiter is 'flat 0.3':\n",
        "              ALPHA = 0.3\n",
        "            if ALPHAiter is 'flat 0.5':\n",
        "              ALPHA = 0.5\n",
        "            if ALPHAiter is 'flat 1':\n",
        "              ALPHA = 1\n",
        "            if ALPHAiter is 'linear':\n",
        "              ALPHA = float(current_step / max_step)\n",
        "            if ALPHAiter is 'hyperbolic':\n",
        "              ALPHA = float(((-1) * (max_step)/(current_step + 1) + max_step) / max_step)\n",
        "            if ALPHA > 1:\n",
        "              print(\"WARNING ERROR: ALPHA > 1\")\n",
        "\n",
        "            images = images.to(DEVICE)\n",
        "            labels = labels.to(DEVICE)\n",
        "\n",
        "            DANN.train()\n",
        "            optimizer.zero_grad() \n",
        "\n",
        "            # Forward pass photo to the classifier\n",
        "            classifier_outputs = DANN(images)\n",
        "            classifier_loss = criterion(classifier_outputs, labels)\n",
        "            classifier_loss.backward()  \n",
        "\n",
        "            # Forward pass photo to the discriminator\n",
        "            discriminator_photo_outputs = DANN(images, ALPHA)\n",
        "            photo_targets = torch.zeros(labels.size(0), dtype=torch.int64).to(DEVICE)\n",
        "            discriminator_photo_loss = criterion(discriminator_photo_outputs, photo_targets)\n",
        "            discriminator_photo_loss.backward()\n",
        "\n",
        "            # Load art\n",
        "            #art_images, art_labels = get_batch(BATCH_SIZE, data_target_iter, art_dataloader)\n",
        "            art_images, art_labels = next(data_target_iter)\n",
        "            art_images = art_images.to(DEVICE)\n",
        "            art_labels = art_labels.to(DEVICE)\n",
        "            \n",
        "            # forward pass target to gd\n",
        "            discriminator_art_outputs = DANN(art_images, ALPHA)\n",
        "            art_labels = torch.ones(labels.size(0) , dtype=torch.int64).to(DEVICE)\n",
        "            discriminator_art_loss = criterion(discriminator_art_outputs,art_labels)\n",
        "            discriminator_art_loss.backward()\n",
        "              \n",
        "            optimizer.step() # update weights based on accumulated gradients\n",
        "            current_step += 1\n",
        "            \n",
        "            # Log loss\n",
        "            log_tuplevector.append((current_step, classifier_loss.item(), discriminator_photo_loss.item(), discriminator_art_loss.item(), ALPHA))\n",
        "            #if current_step % LOG_FREQUENCY == 0:\n",
        "              #print('CLASSIFIER: (Step {}) Loss {}'.format(current_step, classifier_loss.item()))\n",
        "              #print('DISCRIMINATON photo: (Step {}) Loss {}'.format(current_step, discriminator_photo_loss.item()))\n",
        "              #print('DISCRIMINATOR art: (Step {}) Loss {}'.format(current_step, discriminator_art_loss.item()))\n",
        "\n",
        "          # Step the scheduler\n",
        "          scheduler.step() \n",
        "\n",
        "          DANN = DANN.to(DEVICE) # this will bring the network to GPU if DEVICE is cuda\n",
        "          DANN.train(False) # Set Network to evaluation mode\n",
        "\n",
        "          running_corrects = 0\n",
        "\n",
        "        a = []\n",
        "        b = []\n",
        "        c = []\n",
        "        for tupl in log_tuplevector:\n",
        "          a.append(tupl[1])\n",
        "          b.append(tupl[2])\n",
        "          c.append(tupl[3])\n",
        "        #print('\\nLR {}, NUM_EPOCHS {}, STEP_SIZE {}, ALPHA {}'.format(LRiter, NUM_EPOCHSiter, STEP_SIZEiter, ALPHAiter))\n",
        "        plt.title('with DANN adaptation')\n",
        "        plt.plot(a, label='classifier loss')\n",
        "        plt.plot(b, label='discriminator loss (photo)')\n",
        "        plt.plot(c, label='discriminator loss (art)')\n",
        "        plt.ylabel('loss')\n",
        "        plt.xlabel('step')\n",
        "        plt.grid()\n",
        "        plt.legend()\n",
        "        plt.show()\n",
        "\n",
        "        score = testAccuracy(art_dataset, art_dataloader, DANN)\n",
        "        main_log.append( (count_iteration, LRiter, NUM_EPOCHSiter, STEP_SIZEiter, ALPHA, score) )\n",
        "\n",
        "        count_iteration += 1\n",
        "\n",
        "        #donetime(startTime, partial=True)\n",
        "      else:\n",
        "        count_iteration += 1\n",
        "        if ALPHAiter == ALPHAs[0]:\n",
        "          count_iteration += 1\n",
        "    if count_iteration > start_iteration:\n",
        "      donetime(startTime, partial=True)"
      ],
      "execution_count": 0,
      "outputs": [
        {
          "output_type": "stream",
          "text": [
            "[10/20] LR: 0.0005\n",
            "TEST ACCURACY (without DANN adaptation): 0.5\n",
            "[11/20] LR: 0.0005, ALPHA: linear\n"
          ],
          "name": "stdout"
        },
        {
          "output_type": "display_data",
          "data": {
            "image/png": "[encoded data removed]",
            "text/plain": [
              "<Figure size 432x288 with 1 Axes>"
            ]
          },
          "metadata": {
            "tags": []
          }
        },
        {
          "output_type": "stream",
          "text": [
            "TEST ACCURACY (with DANN adaptation): 0.486328125\n",
            "[12/20] LR: 0.0005, ALPHA: flat 0.1\n"
          ],
          "name": "stdout"
        },
        {
          "output_type": "display_data",
          "data": {
            "image/png": "[encoded data removed]",
            "text/plain": [
              "<Figure size 432x288 with 1 Axes>"
            ]
          },
          "metadata": {
            "tags": []
          }
        },
        {
          "output_type": "stream",
          "text": [
            "TEST ACCURACY (with DANN adaptation): 0.18505859375\n",
            "[13/20] LR: 0.0005, ALPHA: flat 0.5\n"
          ],
          "name": "stdout"
        },
        {
          "output_type": "display_data",
          "data": {
            "image/png": "[encoded data removed]",
            "text/plain": [
              "<Figure size 432x288 with 1 Axes>"
            ]
          },
          "metadata": {
            "tags": []
          }
        },
        {
          "output_type": "stream",
          "text": [
            "TEST ACCURACY (with DANN adaptation): 0.18505859375\n",
            "[14/20] LR: 0.0005, ALPHA: flat 1\n"
          ],
          "name": "stdout"
        },
        {
          "output_type": "display_data",
          "data": {
            "image/png": "[encoded data removed]",
            "text/plain": [
              "<Figure size 432x288 with 1 Axes>"
            ]
          },
          "metadata": {
            "tags": []
          }
        },
        {
          "output_type": "stream",
          "text": [
            "TEST ACCURACY (with DANN adaptation): 0.18505859375\n",
            "DONE (time 12.47 m)\n",
            "[15/20] LR: 0.001\n",
            "TEST ACCURACY (without DANN adaptation): 0.466796875\n",
            "[16/20] LR: 0.001, ALPHA: linear\n"
          ],
          "name": "stdout"
        },
        {
          "output_type": "display_data",
          "data": {
            "image/png": "[encoded data removed]",
            "text/plain": [
              "<Figure size 432x288 with 1 Axes>"
            ]
          },
          "metadata": {
            "tags": []
          }
        },
        {
          "output_type": "stream",
          "text": [
            "TEST ACCURACY (with DANN adaptation): 0.29052734375\n",
            "[17/20] LR: 0.001, ALPHA: flat 0.1\n"
          ],
          "name": "stdout"
        },
        {
          "output_type": "display_data",
          "data": {
            "image/png": "[encoded data removed]",
            "text/plain": [
              "<Figure size 432x288 with 1 Axes>"
            ]
          },
          "metadata": {
            "tags": []
          }
        },
        {
          "output_type": "stream",
          "text": [
            "TEST ACCURACY (with DANN adaptation): 0.18505859375\n",
            "[18/20] LR: 0.001, ALPHA: flat 0.5\n"
          ],
          "name": "stdout"
        },
        {
          "output_type": "display_data",
          "data": {
            "image/png": "[encoded data removed]",
            "text/plain": [
              "<Figure size 432x288 with 1 Axes>"
            ]
          },
          "metadata": {
            "tags": []
          }
        },
        {
          "output_type": "stream",
          "text": [
            "TEST ACCURACY (with DANN adaptation): 0.18505859375\n",
            "[19/20] LR: 0.001, ALPHA: flat 1\n"
          ],
          "name": "stdout"
        },
        {
          "output_type": "display_data",
          "data": {
            "image/png": "[encoded data removed]",
            "text/plain": [
              "<Figure size 432x288 with 1 Axes>"
            ]
          },
          "metadata": {
            "tags": []
          }
        },
        {
          "output_type": "stream",
          "text": [
            "TEST ACCURACY (with DANN adaptation): 0.18505859375\n",
            "DONE (time 25.25 m)\n"
          ],
          "name": "stdout"
        }
      ]
    },
    {
      "cell_type": "markdown",
      "metadata": {
        "id": "rHMB4xV55bza",
        "colab_type": "text"
      },
      "source": [
        "RESULTS analysis"
      ]
    },
    {
      "cell_type": "code",
      "metadata": {
        "id": "N9MPx82e5mDD",
        "colab_type": "code",
        "colab": {}
      },
      "source": [
        "import matplotlib.pyplot as plt\n",
        "import numpy as np\n",
        "\n",
        "results = [] # (counter, LR, NUM_EPOCHS, STEP_SIZE, ALPHA, accuracy)\n",
        "support1 = []\n",
        "support2 = []\n",
        "support3 = []\n",
        "\n",
        "#LRs = [0.0005, 0.001, 0.005]\n",
        "#NUM_EPOCHSsSTEP_SIZEs = [(10, 6), (30, 10), (50, 20)]\n",
        "#ALPHAs = ['linearly ascendant', 'flat 0.1', 'flat 0.3']\n",
        "\n",
        "results.append( (0,  0.0005, 10, 6,  'none',                 0.5054) ) \n",
        "results.append( (1,  0.0005, 10, 6,  'linear',   0.4883) ) \n",
        "results.append( (2,  0.0005, 10, 6,  'flat 0.1',             0.4868) ) \n",
        "results.append( (3,  0.0005, 10, 6,  'flat 0.3',             0.4736) ) \n",
        "\n",
        "results.append( (4,  0.0005, 30, 10,  'none',                0.4775) ) \n",
        "results.append( (5,  0.0005, 30, 10,  'linear',              0.1812) ) \n",
        "results.append( (6,  0.0005, 30, 10,  'flat 0.1',            0.1851) ) \n",
        "results.append( (7,  0.0005, 30, 10,  'flat 0.3',            0.4126) )\n",
        "\n",
        "results.append( (8,  0.0005, 50, 20,  'none',                0.4521) ) \n",
        "results.append( (9,  0.0005, 50, 20,  'linear',              0.1655) ) \n",
        "results.append( (10, 0.0005, 50, 20,  'flat 0.1',            0.1440) ) \n",
        "results.append( (11, 0.0005, 50, 20,  'flat 0.3',            0.2603) )\n",
        "\n",
        "results.append( (12, 0.001, 10, 6,  'none',                  0.4995) ) \n",
        "results.append( (13, 0.001, 10, 6,  'linear',                 0.1851) ) \n",
        "results.append( (14, 0.001, 10, 6,  'flat 0.1',              0.1851) ) \n",
        "results.append( (15, 0.001, 10, 6,  'flat 0.3',              0.2080) ) \n",
        "\n",
        "results.append( (16, 0.001, 30, 10,  'none',                 0.5010) ) \n",
        "results.append( (17, 0.001, 30, 10,  'linear',               0.2251) ) \n",
        "results.append( (18, 0.001, 30, 10,  'flat 0.1',             0.1943) ) \n",
        "results.append( (19, 0.001, 30, 10,  'flat 0.3',             0.2373) )\n",
        "\n",
        "results.append( (20, 0.001, 50, 20,  'none',                0.4810) ) \n",
        "results.append( (21, 0.001, 50, 20,  'linear',              0.2192) ) \n",
        "results.append( (22, 0.001, 50, 20,  'flat 0.1',            0.1851) ) \n",
        "results.append( (23, 0.001, 50, 20,  'flat 0.3',            0.1851) )\n",
        "\n",
        "results.append( (24, 0.005, 10, 6,  'none',                 0.4629) ) \n",
        "results.append( (25, 0.005, 10, 6,  'linear',               0.1851) ) \n",
        "results.append( (26, 0.005, 10, 6,  'flat 0.1',             0.1851) ) \n",
        "results.append( (27, 0.005, 10, 6,  'flat 0.3',             0.1851) ) \n",
        "\n",
        "results.append( (28, 0.005, 30, 10,  'none',                0.4971) ) \n",
        "results.append( (29, 0.005, 30, 10,  'linear',              0.1851) ) \n",
        "results.append( (30, 0.005, 30, 10,  'flat 0.1',            0.1851) ) \n",
        "results.append( (31, 0.005, 30, 10,  'flat 0.3',            0.1851) )\n",
        "\n",
        "results.append( (32, 0.005, 50, 20,  'none',                0.4834) ) \n",
        "results.append( (33, 0.005, 50, 20,  'linear',              0.1851) ) \n",
        "results.append( (34, 0.005, 50, 20,  'flat 0.1',            0.1851) ) \n",
        "results.append( (35, 0.005, 50, 20,  'flat 0.3',            0.1851) )\n",
        "\n",
        "for counter, LR, NUM_EPOCHS, STEP_SIZE, ALPHA, accuracy in results:\n",
        "  support1.append(counter)\n",
        "  support2.append(accuracy)\n",
        "\n",
        "\n",
        "plt.barh(support1, support2)\n",
        "plt.grid()\n",
        "plt.show()"
      ],
      "execution_count": 0,
      "outputs": []
    }
  ]
}